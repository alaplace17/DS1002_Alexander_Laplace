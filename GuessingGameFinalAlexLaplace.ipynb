{
  "nbformat": 4,
  "nbformat_minor": 0,
  "metadata": {
    "colab": {
      "provenance": [],
      "authorship_tag": "ABX9TyOv7/pjcpqStDRfLxqMvF+8",
      "include_colab_link": true
    },
    "kernelspec": {
      "name": "python3",
      "display_name": "Python 3"
    },
    "language_info": {
      "name": "python"
    }
  },
  "cells": [
    {
      "cell_type": "markdown",
      "metadata": {
        "id": "view-in-github",
        "colab_type": "text"
      },
      "source": [
        "<a href=\"https://colab.research.google.com/github/alaplace17/DS1002_Alexander_Laplace/blob/main/GuessingGameFinalAlexLaplace.ipynb\" target=\"_parent\"><img src=\"https://colab.research.google.com/assets/colab-badge.svg\" alt=\"Open In Colab\"/></a>"
      ]
    },
    {
      "cell_type": "markdown",
      "source": [
        "I was only contributor and it took me a few hours and some research to get done."
      ],
      "metadata": {
        "id": "GK33LIOsZjnc"
      }
    },
    {
      "cell_type": "code",
      "source": [
        "import numpy as np\n",
        "\n",
        "print(\"The computer is choosing a number from 1 to 100. It is your job to guess the answer it chose.\")\n",
        "try:\n",
        "  answer=input(\"What is your guess? \")\n",
        "  answer=int(answer)\n",
        "except:\n",
        "  answer=float(answer)\n",
        "  print(\"You put in \"+str(answer)+\". You must guess an integer. \")\n",
        "\n",
        "correctanswer = np.random.randint(1,100)\n",
        "while (answer!=correctanswer):\n",
        "    print(\"You are wrong.\")\n",
        "    if (int(answer) > 100):\n",
        "      print(\"too high\")\n",
        "    if (int(answer) <1):\n",
        "      print(\"too low\")\n",
        "    answer= input(\"What is your new guess? \")\n",
        "if (int(answer) == correctanswer):\n",
        "    print(\"You are correct!\")"
      ],
      "metadata": {
        "colab": {
          "base_uri": "https://localhost:8080/"
        },
        "outputId": "06315d00-b626-4001-9174-ac15a8cbcc58",
        "id": "vuwD2zRtW0mN"
      },
      "execution_count": null,
      "outputs": [
        {
          "metadata": {
            "tags": null
          },
          "name": "stdout",
          "output_type": "stream",
          "text": [
            "The computer is choosing a number from 1 to 100. It is your job to guess the answer it chose.\n"
          ]
        }
      ]
    }
  ]
}