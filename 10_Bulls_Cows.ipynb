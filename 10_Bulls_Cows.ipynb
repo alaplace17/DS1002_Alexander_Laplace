{
  "cells": [
    {
      "cell_type": "markdown",
      "metadata": {
        "id": "view-in-github",
        "colab_type": "text"
      },
      "source": [
        "<a href=\"https://colab.research.google.com/github/alaplace17/DS1002_Alexander_Laplace/blob/main/10_Bulls_Cows.ipynb\" target=\"_parent\"><img src=\"https://colab.research.google.com/assets/colab-badge.svg\" alt=\"Open In Colab\"/></a>"
      ]
    },
    {
      "cell_type": "markdown",
      "metadata": {
        "id": "lSwr8T3SNrkj"
      },
      "source": [
        "## Bulls and Cows:\n",
        "### Another guessing game.\n",
        "### Assignment due Wednesday 10 April at 10 am\n",
        "\n",
        "General instructions:\n",
        "\n",
        "1. You may work in teams of up to three people.  As usual, if you do this, make sure all names are clearly displayed at the top of your submission, and all team members should submit the same GitHub URL.\n",
        "\n",
        "1. Use only basic Python code.  Do not use `numpy` arrays or functions.\n",
        "\n",
        "2. Practice utilizing the coding concepts we have studied.  \n",
        "\n",
        "3. Write docstrings for all your functions.\n",
        "\n"
      ]
    },
    {
      "cell_type": "markdown",
      "metadata": {
        "id": "qrWRyeI2NwHA"
      },
      "source": [
        "### Goal:  program this game\n",
        "In this assignment you will program a version of an old game called Bulls and Cows.  It is somewhat similar to Wordle, but with numbers instead of words (and various other differences . . . read carefully!).\n",
        "\n",
        "The game is played like this:  \n",
        "1. The computer will choose a secret code that the player is trying to guess.\n",
        "2. The secret code will be 4 digits long.  It will use only the digits 1-6, and it will have no repeated digits.  For example the secret code might be 1326 or 6241 but it cannot be 2652 or 4913 or 2601.\n",
        "3. The computer will prompt the user for a guess, and the user will guess.  The guess must follow the same rules (4 digits long, only use digits 1-6, no repeats).  The program should not allow an invalid guess.\n",
        "4. After each guess, the computer will give feedback to the user as follows:  \n",
        "(i) Each digit of the guess that is in the secret code and in the correct position is called a Bull (B).  \n",
        "(ii) Each digit of the guess that exists somewhere in the secret code, but *not* in the same position as in the guess, is called a Cow (C).  \n",
        "(iii) A digit of the guess that doesn't occur anywhere in the secret code is called a miss (X).  \n",
        "The computer will inform the user how many Bulls, how many Cows, and how many misses the user's guess had.  \n",
        "The feedback will always start with B's, then list C's, then list X's.  \n",
        "For example if the secret code is 1326  \n",
        "and the guess is 4316  \n",
        "then the computer should respond with \"BBCX\"  \n",
        "because there are two Bulls (the 3 and the 6 are Bulls, because they occur in the same position in the guess as in the secret code),  \n",
        "one Cow (the 1, which is a correct digit but in the wrong position),  \n",
        "and one Miss (the 4, which does not occur anywhere in the secret code).  \n",
        "> **Important:** the feedback string should always list the Bulls first, then the Cows, then the Misses.  It should **not** tell the user which digits are which!  The only information in the feedback string is how many of each there are.  In the example above, for instance, the feedback is **not** \"XBCB\" but rather \"BBCX\".  This is different from Wordle, if you are familiar with that game.\n",
        "5. The user should then be prompted for another guess.  This guess-with-feedback process should be repeated until the user gets the correct code, at which point the computer should indicate that they have won the game.  However, the user should only be allowed 6 guesses; if they don't guess correctly in 6 attempts, then following the feedback from their final guess they should get a message that they have lost the game, and the secret code should be revealed.\n",
        "\n",
        "\n",
        "\n",
        "\n",
        "\n",
        "\n",
        "\n"
      ]
    },
    {
      "cell_type": "markdown",
      "source": [
        "### Steps\n",
        "We will build this game using several functions.  \n",
        "\n",
        "1. **Count the Bulls:**  \n",
        "Write a function that takes two lists of the same length, and returns the number of Bulls.  That is, it should return the number of indices where the lists contain the same element.  *(Note:  you don't have to check that the entries are between 1 and 6, or that there are no repeats, etc.  A different function will do that.)*\n",
        "\n",
        "> A sample run might look like\n",
        "```\n",
        "first = [11, 3, 17, 5, 1]\n",
        "second = [20, 2, 17, 3, 1]\n",
        "count_bulls(first,second)\n",
        "```\n",
        "```\n",
        " 2\n",
        "```\n"
      ],
      "metadata": {
        "id": "XSH1JULaurD1"
      }
    },
    {
      "cell_type": "markdown",
      "source": [
        "Define your function in the code chunk below.  The function definition command and the return command are pre-populated for you.  You just have to fill in the part which does the actual counting.  I recommend using a list comprehension to do this.\n"
      ],
      "metadata": {
        "id": "pXoOyBk7xmPa"
      }
    },
    {
      "cell_type": "code",
      "source": [
        "# the Bull-counting function\n",
        "def count_bulls(first, second):\n",
        "  '''\n",
        "  Takes two lists of the same length and computes the number of positions where the list entries agree.\n",
        "\n",
        "  Args:\n",
        "  - first (list): The first list\n",
        "  - second (list): The second list\n",
        "\n",
        "  Returns:\n",
        "  - int: Number of positions in the list where the list entries agree.\n",
        "\n",
        "  '''\n",
        "  num_bulls = sum(1 for x, y in zip(first, second) if x ==y)            # finish this line of code to make the function function!\n",
        "  return num_bulls"
      ],
      "metadata": {
        "id": "vEsRSe8KxlcF"
      },
      "execution_count": 35,
      "outputs": []
    },
    {
      "cell_type": "code",
      "source": [
        "first = [5,4,3,2]\n",
        "second = [3,4,3,5]\n",
        "print(count_bulls(first,second))"
      ],
      "metadata": {
        "id": "4qiYgPKpivct",
        "outputId": "eb7efdc9-72a8-4536-81da-10aef8cbc79a",
        "colab": {
          "base_uri": "https://localhost:8080/"
        }
      },
      "execution_count": 36,
      "outputs": [
        {
          "output_type": "stream",
          "name": "stdout",
          "text": [
            "2\n"
          ]
        }
      ]
    },
    {
      "cell_type": "markdown",
      "source": [
        "**Zip allows iteration of both lists at the same time**"
      ],
      "metadata": {
        "id": "szjDSiVCjSYt"
      }
    },
    {
      "cell_type": "markdown",
      "source": [
        "Add code and/or text chunks below to demonstrate that you have tested your code and that it works correctly."
      ],
      "metadata": {
        "id": "yACJyJtOzE2U"
      }
    },
    {
      "cell_type": "markdown",
      "source": [
        "2. **Count something else:**  \n",
        "To count the cows it will be helpful first to count how many of the elements occur in both strings, without paying attention their positions.\n",
        "Write a function called `count_animals` that takes two lists of the same length, and returns the number of elements of the second list that are also in the first list.  (In the game setting, each such element is either a Bull or a Cow, but don't worry about which is which for this problem.)\n",
        "You may assume the lists do not contain repeated elements, since this will be the case when the function is called in the game.\n",
        "\n",
        "> This time a sample run might look like\n",
        "```\n",
        "first = [11, 3, 17, 5, 1]\n",
        "second = [20, 2, 17, 3, 1]\n",
        "count_animals(first,second)\n",
        "```\n",
        "```\n",
        " 3\n",
        "```\n",
        "\n",
        "This one isn't started for you.  Remember to include a docstring.  This can also be done using a list comprehension, similar to the previous function.\n",
        "\n"
      ],
      "metadata": {
        "id": "aMsOmejkzNVN"
      }
    },
    {
      "cell_type": "code",
      "source": [
        "# the Animal-counting function\n",
        "def count_animals(first, second):\n",
        "  '''\n",
        "  Takes two lists of the same length and computes the number of elements in the second list that are also present in the first list.\n",
        "  Args:\n",
        "  - first (list): The first list\n",
        "  - second (list): The second list\n",
        "\n",
        "  Returns:\n",
        "  - int: Number of elements of second list also in first list.\n",
        "\n",
        "  '''\n",
        "  num_animals = sum(1 for elem in second if elem in first)            # finish this line of code to make the function function!\n",
        "  return num_animals"
      ],
      "metadata": {
        "id": "yRX219q02e6i"
      },
      "execution_count": 37,
      "outputs": []
    },
    {
      "cell_type": "markdown",
      "source": [
        "Again, demonstrate below that you have tested your code and that it works."
      ],
      "metadata": {
        "id": "HXRNwANS2f-4"
      }
    },
    {
      "cell_type": "code",
      "source": [
        "first = [1,2,3,4]\n",
        "second = [1,2,3,4]\n",
        "print(count_animals(first,second))"
      ],
      "metadata": {
        "id": "Uy-7Y90Plnn_",
        "outputId": "2f3e82b7-ffe0-4efe-abd9-3a486220f3ae",
        "colab": {
          "base_uri": "https://localhost:8080/"
        }
      },
      "execution_count": 38,
      "outputs": [
        {
          "output_type": "stream",
          "name": "stdout",
          "text": [
            "4\n"
          ]
        }
      ]
    },
    {
      "cell_type": "code",
      "source": [
        "first = [4,3,2,1]\n",
        "second = [1,2,3,4]\n",
        "print(count_animals(first,second))"
      ],
      "metadata": {
        "id": "attDJFsrlxv5",
        "outputId": "a63c0300-c605-4fd4-e230-05d4e6a87505",
        "colab": {
          "base_uri": "https://localhost:8080/"
        }
      },
      "execution_count": 39,
      "outputs": [
        {
          "output_type": "stream",
          "name": "stdout",
          "text": [
            "4\n"
          ]
        }
      ]
    },
    {
      "cell_type": "code",
      "source": [
        "first = [1,2,2,2]\n",
        "second = [1,2,3,4]\n",
        "print(count_animals(first,second))"
      ],
      "metadata": {
        "id": "b-LO35RYmCR7",
        "outputId": "c49c0dc6-9876-4db8-cb96-9a6bd6e64157",
        "colab": {
          "base_uri": "https://localhost:8080/"
        }
      },
      "execution_count": 40,
      "outputs": [
        {
          "output_type": "stream",
          "name": "stdout",
          "text": [
            "2\n"
          ]
        }
      ]
    },
    {
      "cell_type": "markdown",
      "source": [
        "3. **Count the cows:**  \n",
        "Write a function called `count_cows` that counts the cows.  \n",
        "> This time a sample run might look like\n",
        "```\n",
        "first = [11, 3, 17, 5, 1]\n",
        "second = [20, 2, 17, 3, 1]\n",
        "count_cows(first,second)\n",
        "```\n",
        "```\n",
        " 1\n",
        "```\n",
        "*Use the two previously defined functions to help you!  \n",
        "In fact, remember that the only reason we wrote the `count_animals` function was to help count the cows.*\n",
        "\n",
        "You can do this with only two lines of code, not counting documentation!"
      ],
      "metadata": {
        "id": "x2DAPkxj2GMo"
      }
    },
    {
      "cell_type": "code",
      "source": [
        "# the Animal-counting function\n",
        "def count_cows(first, second):\n",
        "  '''\n",
        "  Takes two lists of the same length and computes the number of elements in the second list that are also present in the first list, but not the same position.\n",
        "  Args:\n",
        "  - first (list): The first list\n",
        "  - second (list): The second list\n",
        "\n",
        "  Returns:\n",
        "  - int: Number of elements of second list also in first list, but not in the same position.\n",
        "\n",
        "  '''\n",
        "  num_cows    = count_animals(first,second) - count_bulls(first,second)\n",
        "  return num_cows"
      ],
      "metadata": {
        "id": "QnxnaOPI3YZO"
      },
      "execution_count": 41,
      "outputs": []
    },
    {
      "cell_type": "code",
      "source": [
        "first = [1,2,2,3]\n",
        "second = [1,2,3,4]\n",
        "print(count_cows(first,second))"
      ],
      "metadata": {
        "id": "-pUiJsQEq2s1",
        "outputId": "1fc57e81-0f6c-4c38-8370-0b59e45fdbce",
        "colab": {
          "base_uri": "https://localhost:8080/"
        }
      },
      "execution_count": 42,
      "outputs": [
        {
          "output_type": "stream",
          "name": "stdout",
          "text": [
            "1\n"
          ]
        }
      ]
    },
    {
      "cell_type": "markdown",
      "metadata": {
        "id": "hWQhYDIVYjXr"
      },
      "source": [
        "4. **Create feedback string**  \n",
        "Write a `build_response_str` function that takes three numbers, say `b,c,l`, and outputs a string of total length `l` that consists of `b` B's, followed by `c` C's, and the rest X's (until the total length is `l`).\n",
        "\n",
        "> Sample run:\n",
        "```\n",
        "build_response_str(4,3,9)\n",
        "```\n",
        "```\n",
        "BBBBCCCXX\n",
        "```"
      ]
    },
    {
      "cell_type": "code",
      "source": [
        "def build_response_str(b,c,l):\n",
        "    '''\n",
        "    Build a response string consisting of 'B's, 'C's, and 'X's\n",
        "\n",
        "    Args:\n",
        "    - b (int): Number of Bs\n",
        "    - c (int): Number of Cs\n",
        "    - l (int): Total Length of Response string\n",
        "\n",
        "    Returns:\n",
        "    - str: outputs response string\n",
        "    '''\n",
        "    x_count = l - b - c\n",
        "\n",
        "    response_str = 'B'* b + 'C' * c + 'X' * x_count\n",
        "\n",
        "    return response_str"
      ],
      "metadata": {
        "id": "GSimWqUsMaPE"
      },
      "execution_count": 43,
      "outputs": []
    },
    {
      "cell_type": "code",
      "source": [
        "build_response_str(4,3,9)"
      ],
      "metadata": {
        "colab": {
          "base_uri": "https://localhost:8080/",
          "height": 36
        },
        "id": "iDiCOh0CuMMa",
        "outputId": "093a4625-a7da-4388-d66e-d5ea192b0ecd"
      },
      "execution_count": 44,
      "outputs": [
        {
          "output_type": "execute_result",
          "data": {
            "text/plain": [
              "'BBBBCCCXX'"
            ],
            "application/vnd.google.colaboratory.intrinsic+json": {
              "type": "string"
            }
          },
          "metadata": {},
          "execution_count": 44
        }
      ]
    },
    {
      "cell_type": "markdown",
      "source": [
        "Test your code here."
      ],
      "metadata": {
        "id": "2D14kxTU7ApH"
      }
    },
    {
      "cell_type": "markdown",
      "metadata": {
        "id": "omzE6sLKwsMC"
      },
      "source": [
        "5.  **Generate feedback for guesses**  \n",
        "Write a function `response(first,second)` that takes two lists of the same length, and outputs a string consisting of some number of B's followed by some number of C's followed by some number of X's, where the numbers correspond to the things we counted above.  That is, if `first` were the secret code in the game and `second` were the user's guess, then we would print one B for each Bull, one C for each Cow, and one X for each Miss. The total output string should have the same length as the input strings.\n",
        "\n",
        "> Sample run:\n",
        "```\n",
        "first = [11, 3, 17, 5, 1]\n",
        "second = [20, 2, 17, 3, 1]\n",
        "response(first,second)\n",
        "```\n",
        "```\n",
        " BBCXX\n",
        "```\n",
        "\n",
        "With all the functions you've already put in place, this should be simple.  Test your code once it's written.\n"
      ]
    },
    {
      "cell_type": "code",
      "source": [
        "def response(first, second):\n",
        "    \"\"\"\n",
        "    Construct response string with Bull,Cow, and Miss counts between first secret code and second guessed code\n",
        "\n",
        "    Args:\n",
        "    - first (list): secret code\n",
        "    - second (list): guessed code\n",
        "\n",
        "    Returns:\n",
        "    - str: response string constructed with Bulls, Cows, and Misses\n",
        "    \"\"\"\n",
        "\n",
        "    b = count_bulls(first,second)\n",
        "    c = count_cows(first,second)\n",
        "    l = len(first)\n",
        "\n",
        "    response_str = build_response_str(b,c,l)\n",
        "\n",
        "    return response_str"
      ],
      "metadata": {
        "id": "7gjMoRMbvDsK"
      },
      "execution_count": 45,
      "outputs": []
    },
    {
      "cell_type": "code",
      "source": [
        "first = [12, 4, 18, 3,1]\n",
        "second = [12, 5, 13, 1, 3]\n",
        "response(first, second)"
      ],
      "metadata": {
        "id": "RD1qq7l783y5",
        "colab": {
          "base_uri": "https://localhost:8080/",
          "height": 36
        },
        "outputId": "55d5d0be-69ad-4713-eccb-60585e224105"
      },
      "execution_count": 46,
      "outputs": [
        {
          "output_type": "execute_result",
          "data": {
            "text/plain": [
              "'BCCXX'"
            ],
            "application/vnd.google.colaboratory.intrinsic+json": {
              "type": "string"
            }
          },
          "metadata": {},
          "execution_count": 46
        }
      ]
    },
    {
      "cell_type": "markdown",
      "metadata": {
        "id": "LWshNPjPZJdQ"
      },
      "source": [
        "6.  **Choose the secret code**  \n",
        "The `random` package, and specifically the `sample` sub-package, is useful for generating random samples.  Try running the following lines of code several times.\n",
        "\n"
      ]
    },
    {
      "cell_type": "code",
      "source": [
        "from random import sample\n",
        "\n",
        "sample(range(1,7),4)  # the first argument is the population to be sampled, and the second is the number of samples\n",
        "                      # recall that `range(a,b)` includes `a` but stops at `b-1`"
      ],
      "metadata": {
        "id": "OzEZ5BQZ85jV",
        "colab": {
          "base_uri": "https://localhost:8080/"
        },
        "outputId": "4a2d1250-a81d-4ab6-df4d-04195ab4ee48"
      },
      "execution_count": 47,
      "outputs": [
        {
          "output_type": "execute_result",
          "data": {
            "text/plain": [
              "[3, 5, 6, 1]"
            ]
          },
          "metadata": {},
          "execution_count": 47
        }
      ]
    },
    {
      "cell_type": "markdown",
      "source": [
        "What type of object is returned by the `sample` function?\n"
      ],
      "metadata": {
        "id": "N1BOe2Xd-kr4"
      }
    },
    {
      "cell_type": "code",
      "source": [
        "print(type(sample))"
      ],
      "metadata": {
        "id": "U5AAu9sG-slX",
        "colab": {
          "base_uri": "https://localhost:8080/"
        },
        "outputId": "c5a28944-7520-4369-b523-f7cdb00bc2c4"
      },
      "execution_count": 48,
      "outputs": [
        {
          "output_type": "stream",
          "name": "stdout",
          "text": [
            "<class 'method'>\n"
          ]
        }
      ]
    },
    {
      "cell_type": "markdown",
      "source": [
        "Method is the object type returned by sample"
      ],
      "metadata": {
        "id": "yGZw8xFZ-uN4"
      }
    },
    {
      "cell_type": "markdown",
      "source": [
        "7. **Verify the guess**  \n",
        "Finish writing a function called `get_guess` (started below) to prompt the user for a guess and then make sure the input is valid according to the rules of the game.\n",
        "The prompt is already given.  Note that the `list` command converts the input into a list of characters so that it can be passed to the other functions (which are expecting lists).   \n",
        ">**Alert:  you will likely have to think more about data types before this is all over.**"
      ],
      "metadata": {
        "id": "mbK84TdIAVsO"
      }
    },
    {
      "cell_type": "code",
      "source": [
        "def get_guess():\n",
        "# Add code as needed to verify that the guess is legitimate.\n",
        "# Respond to an illegitimate guess with a message telling the user what the rules are\n",
        "# and asking to try again.\n",
        "    guess = []\n",
        "    while True:\n",
        "        guess_input = input(\"Enter your guess (4 digitss each digit must be between 1 and 6, no repeated digits):\")\n",
        "\n",
        "        if len(guess_input) != 4:\n",
        "            print(\"Guess invalid. Guess muts be 4 digits long.\")\n",
        "            continue\n",
        "        if not all(char.isdigit() and '1' <= char <= '6' for char in guess_input):\n",
        "            print(\"Guess invalid. Each digit in guess must be between 1 and 6.\")\n",
        "        if len(set(guess_input)) != 4:\n",
        "            print(\"Guess in valid. The guess can not contain repeated digits.\")\n",
        "        guess = [int(digit) for digit in guess_input]\n",
        "        break\n",
        "    return guess\n",
        ""
      ],
      "metadata": {
        "id": "13HGg6VvBXSH"
      },
      "execution_count": 49,
      "outputs": []
    },
    {
      "cell_type": "code",
      "source": [
        "get_guess()"
      ],
      "metadata": {
        "colab": {
          "base_uri": "https://localhost:8080/"
        },
        "id": "mK2fukX_nIh0",
        "outputId": "d4724bd6-ba4f-4ccf-bd7d-678a03f8d364"
      },
      "execution_count": 50,
      "outputs": [
        {
          "name": "stdout",
          "output_type": "stream",
          "text": [
            "Enter your guess (4 digitss each digit must be between 1 and 6, no repeated digits):1523\n"
          ]
        },
        {
          "output_type": "execute_result",
          "data": {
            "text/plain": [
              "[1, 5, 2, 3]"
            ]
          },
          "metadata": {},
          "execution_count": 50
        }
      ]
    },
    {
      "cell_type": "markdown",
      "source": [
        "As usual, test your code.  What type of objects are we dealing with here?"
      ],
      "metadata": {
        "id": "PSPYpeZYONf0"
      }
    },
    {
      "cell_type": "code",
      "source": [
        "user_guess = get_guess()\n",
        "print(type(user_guess))"
      ],
      "metadata": {
        "colab": {
          "base_uri": "https://localhost:8080/"
        },
        "outputId": "f9486019-aaed-4ee4-d5c6-a75a8a0a807f",
        "id": "4wHAB4EOoIAR"
      },
      "execution_count": 51,
      "outputs": [
        {
          "output_type": "stream",
          "name": "stdout",
          "text": [
            "Enter your guess (4 digitss each digit must be between 1 and 6, no repeated digits):1523\n",
            "<class 'list'>\n"
          ]
        }
      ]
    },
    {
      "cell_type": "markdown",
      "source": [
        "8. **Put it all together**  \n",
        "Finally, fill in the details of the function `bulls_cows` below so that it will play the game of Bulls and Cows when called.  Note that the function takes no arguments and returns nothing.\n"
      ],
      "metadata": {
        "id": "WdtvUrA4-uzn"
      }
    },
    {
      "cell_type": "code",
      "execution_count": 52,
      "metadata": {
        "id": "_u48oidGzRKX"
      },
      "outputs": [],
      "source": [
        "from random import sample\n",
        "\n",
        "def bulls_cows():\n",
        "  '''\n",
        "  This function plays the game \"Bulls and Cows.\"\n",
        "  It takes no arguments and returns nothing.\n",
        "  '''\n",
        "  secret_code = sample(range(1,7),4)                # (finish) computer selects the secret code\n",
        "\n",
        "  for i in range(6):                  # user gets a maximum of 6 guesses\n",
        "    guess = get_guess()                           # (finish) run a function to get a guess\n",
        "    if secret_code==guess:\n",
        "      print(\"You guessed it!\")\n",
        "      return\n",
        "    print(response(secret_code, guess))\n",
        "  print(f\"You have run out of guesses. The secret code was {secret_code}.\")\n",
        "  return"
      ]
    },
    {
      "cell_type": "markdown",
      "metadata": {
        "id": "NzjqX_9K3OuV"
      },
      "source": [
        "Play the game a few times below.  Make sure it behaves as you think it should!"
      ]
    },
    {
      "cell_type": "code",
      "execution_count": 53,
      "metadata": {
        "id": "b-HELV-z3OuW",
        "colab": {
          "base_uri": "https://localhost:8080/"
        },
        "outputId": "57ee84fe-41fe-47a3-9906-fdeee9463679"
      },
      "outputs": [
        {
          "output_type": "stream",
          "name": "stdout",
          "text": [
            "Enter your guess (4 digitss each digit must be between 1 and 6, no repeated digits):1523\n",
            "CCXX\n",
            "Enter your guess (4 digitss each digit must be between 1 and 6, no repeated digits):1546\n",
            "CCCX\n",
            "Enter your guess (4 digitss each digit must be between 1 and 6, no repeated digits):6215\n",
            "BCCX\n",
            "Enter your guess (4 digitss each digit must be between 1 and 6, no repeated digits):6315\n",
            "BCXX\n",
            "Enter your guess (4 digitss each digit must be between 1 and 6, no repeated digits):6415\n",
            "BBCX\n",
            "Enter your guess (4 digitss each digit must be between 1 and 6, no repeated digits):6325\n",
            "BCCX\n",
            "You have run out of guesses. The secret code was [6, 4, 5, 2].\n"
          ]
        }
      ],
      "source": [
        "bulls_cows()"
      ]
    },
    {
      "cell_type": "code",
      "source": [
        "bulls_cows()"
      ],
      "metadata": {
        "id": "inzOdtimDfGU",
        "colab": {
          "base_uri": "https://localhost:8080/"
        },
        "outputId": "99dd872c-64f0-42a1-be9e-7160498c5090"
      },
      "execution_count": 54,
      "outputs": [
        {
          "output_type": "stream",
          "name": "stdout",
          "text": [
            "Enter your guess (4 digitss each digit must be between 1 and 6, no repeated digits):1234\n",
            "CCCX\n",
            "Enter your guess (4 digitss each digit must be between 1 and 6, no repeated digits):1235\n",
            "CCXX\n",
            "Enter your guess (4 digitss each digit must be between 1 and 6, no repeated digits):2346\n",
            "BBCX\n",
            "Enter your guess (4 digitss each digit must be between 1 and 6, no repeated digits):2361\n",
            "BCCX\n",
            "Enter your guess (4 digitss each digit must be between 1 and 6, no repeated digits):1364\n",
            "BCCC\n",
            "Enter your guess (4 digitss each digit must be between 1 and 6, no repeated digits):4316\n",
            "You guessed it!\n"
          ]
        }
      ]
    },
    {
      "cell_type": "code",
      "source": [
        "bulls_cows()"
      ],
      "metadata": {
        "id": "Eqw-5laFDfkG"
      },
      "execution_count": null,
      "outputs": []
    },
    {
      "cell_type": "markdown",
      "source": [
        "9. **Reflect**  \n",
        "Think of at least three ways you could change the rules or setup of the game, and in each case describe (in one sentence, you don't need to write code) what you would have to do to modify your code to play the new version of the game.  Use a text box below for each of your ideas."
      ],
      "metadata": {
        "id": "a58-KCX4ELRO"
      }
    },
    {
      "cell_type": "markdown",
      "source": [
        "(1) I would change the game so the Bulls, Cows, and Misses would appear in the positions of the code where you put your number to make it an easier version. I'm not entirely sure how that would work but I assume it would work by response_str() to include corresponding B,C,Xs to the same index as the letter."
      ],
      "metadata": {
        "id": "Jof2vIZSEfwo"
      }
    },
    {
      "cell_type": "markdown",
      "source": [
        "(2) I could change this to make it so numbers could be repeated and I would allow for more guesses. The way I would change the code is by changing the sample range and for i in range() section to be a higher number."
      ],
      "metadata": {
        "id": "f2_QlBavEiqW"
      }
    },
    {
      "cell_type": "markdown",
      "source": [
        "(3) I could change this to be a 4 letter word game where the system chooses from a bank of 4 letter words, and the user guesses which word it is from the bank. Could do this by changing the argument for the sample, to be from a bank of words filtered by a certain number of letters, and then change the get_guess() code to be for letter formatting."
      ],
      "metadata": {
        "id": "sqfq2EFpEjZt"
      }
    }
  ],
  "metadata": {
    "colab": {
      "provenance": [],
      "include_colab_link": true
    },
    "kernelspec": {
      "display_name": "Python 3",
      "name": "python3"
    },
    "language_info": {
      "name": "python"
    }
  },
  "nbformat": 4,
  "nbformat_minor": 0
}