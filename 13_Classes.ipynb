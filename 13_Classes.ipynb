{
  "nbformat": 4,
  "nbformat_minor": 0,
  "metadata": {
    "colab": {
      "provenance": [],
      "include_colab_link": true
    },
    "kernelspec": {
      "name": "python3",
      "display_name": "Python 3"
    },
    "language_info": {
      "name": "python"
    }
  },
  "cells": [
    {
      "cell_type": "markdown",
      "metadata": {
        "id": "view-in-github",
        "colab_type": "text"
      },
      "source": [
        "<a href=\"https://colab.research.google.com/github/alaplace17/DS1002_Alexander_Laplace/blob/main/13_Classes.ipynb\" target=\"_parent\"><img src=\"https://colab.research.google.com/assets/colab-badge.svg\" alt=\"Open In Colab\"/></a>"
      ]
    },
    {
      "cell_type": "markdown",
      "source": [
        "## Assignment:  Classes\n",
        "### Due Sunday 28 April at 10pm"
      ],
      "metadata": {
        "id": "5Vy93BSp9Tum"
      }
    },
    {
      "cell_type": "markdown",
      "source": [
        "1.  Define a class called `Person` that has attributes `lastName`, `firstName`, `mother`, and `father`.  Both `mother` and `father` should have default value `unknown`.\n",
        "\n",
        "  Include a `__str__()` function that returns a string of the form '`firstName` `lastName`'.\n",
        "\n",
        "  Include a `__repr__()` function that returns a string that can be evaluated to recreate the `Person` object.\n",
        "\n"
      ],
      "metadata": {
        "id": "vcj5XQAI9Wsb"
      }
    },
    {
      "cell_type": "code",
      "source": [
        "class Person:\n",
        "    pass\n",
        "    def __init__(self, lastName, firstName, mother='unknown', father='unknown'):\n",
        "        self.lastName  = lastName\n",
        "        self.firstName = firstName\n",
        "        self.mother    = mother\n",
        "        self.father    = father\n",
        "    def __str__(self):\n",
        "        return f\"{self.firstName} {self.lastName}\"\n",
        "    def __repr__(self):\n",
        "        return f\"Person('{self.lastName}', '{self.firstName}', '{self.mother}', '{self.father}')\"\n",
        ""
      ],
      "metadata": {
        "id": "mjHDwHv3EpVe"
      },
      "execution_count": 81,
      "outputs": []
    },
    {
      "cell_type": "markdown",
      "source": [
        "Create a person (i.e., a `Person` object) called `p` with unknown parents.  (You will need to give your person a first and last name.) Check the type of `p`.  Include all inputs and outputs."
      ],
      "metadata": {
        "id": "-ppMsEIVHINl"
      }
    },
    {
      "cell_type": "code",
      "source": [
        "p = Person('Laplace', 'Celia')"
      ],
      "metadata": {
        "id": "5bwid_6gHIBH"
      },
      "execution_count": 82,
      "outputs": []
    },
    {
      "cell_type": "code",
      "source": [
        "print(type(p))"
      ],
      "metadata": {
        "colab": {
          "base_uri": "https://localhost:8080/"
        },
        "id": "lGH-DcNS2s5L",
        "outputId": "f5e9dfb9-0f70-4990-c3fa-f0e2345c0c64"
      },
      "execution_count": 83,
      "outputs": [
        {
          "output_type": "stream",
          "name": "stdout",
          "text": [
            "<class '__main__.Person'>\n"
          ]
        }
      ]
    },
    {
      "cell_type": "markdown",
      "source": [
        "Verify that your `__str__` and `__repr__` functions are doing what they are supposed to do.  Include all inputs and outputs."
      ],
      "metadata": {
        "id": "Z6zlUC3xRtal"
      }
    },
    {
      "cell_type": "code",
      "source": [
        "print(str(p))"
      ],
      "metadata": {
        "id": "jZO0dBQYRs-K",
        "colab": {
          "base_uri": "https://localhost:8080/"
        },
        "outputId": "513a627d-a969-4812-d0cd-98ef878f6f9e"
      },
      "execution_count": 84,
      "outputs": [
        {
          "output_type": "stream",
          "name": "stdout",
          "text": [
            "Celia Laplace\n"
          ]
        }
      ]
    },
    {
      "cell_type": "code",
      "source": [
        "print(repr(p))"
      ],
      "metadata": {
        "colab": {
          "base_uri": "https://localhost:8080/"
        },
        "id": "1Fb2DqnK3Lfy",
        "outputId": "7181822c-ad0b-47a2-fdd3-7e61114b1a0e"
      },
      "execution_count": 85,
      "outputs": [
        {
          "output_type": "stream",
          "name": "stdout",
          "text": [
            "Person('Laplace', 'Celia', 'unknown', 'unknown')\n"
          ]
        }
      ]
    },
    {
      "cell_type": "markdown",
      "source": [
        "Suppose the mother of `p` has been found and is named Taylor Swift.  Create a new person named Taylor Swift, and make her the mother of `p`:\n",
        "\n",
        "```\n",
        "> p.mother\n",
        "'Taylor Swift'\n",
        "```"
      ],
      "metadata": {
        "id": "1mOAThQiHzoQ"
      }
    },
    {
      "cell_type": "code",
      "source": [
        "mother_tswift = Person('Swift', 'Taylor')\n",
        "p.mother = mother_tswift\n",
        "print(p.mother)"
      ],
      "metadata": {
        "id": "NYbDOorpHymz",
        "colab": {
          "base_uri": "https://localhost:8080/"
        },
        "outputId": "ed526397-0cc1-4a03-cad5-ec91f88a6d88"
      },
      "execution_count": 86,
      "outputs": [
        {
          "output_type": "stream",
          "name": "stdout",
          "text": [
            "Taylor Swift\n"
          ]
        }
      ]
    },
    {
      "cell_type": "markdown",
      "source": [
        "2.  Add some methods to your class.  Start by copying the `class` definition you already wrote.  Then, inside the `class` definition:\n",
        "\n",
        "  (a) Write a method called `unknownParent()` which returns `True` if any parent is 'unknown' and `False` otherwise.\n",
        "\n",
        "  (b) Write a method called `maternalGrandmother()` which returns the mother's mother.  If the mother is unknown, it should return 'unknown'.\n",
        "\n"
      ],
      "metadata": {
        "id": "1g1pcrmFHzGh"
      }
    },
    {
      "cell_type": "code",
      "source": [
        "class Person:\n",
        "    pass\n",
        "    def __init__(self, lastName, firstName, mother='unknown', father='unknown'):\n",
        "        self.lastName  = lastName\n",
        "        self.firstName = firstName\n",
        "        self.mother    = mother\n",
        "        self.father    = father\n",
        "    def __str__(self):\n",
        "        return f\"{self.firstName} {self.lastName}\"\n",
        "    def __repr__(self):\n",
        "        return f\"Person('{self.lastName}', '{self.firstName}', '{self.mother}', '{self.father}')\"\n",
        "    def set_mother(self,mother):\n",
        "        self.mother = mother\n",
        "    def get_mother(self):\n",
        "        return self.mother\n",
        "    def set_father(self,father):\n",
        "        self.father = father\n",
        "    def get_father(self):\n",
        "        return self.father\n",
        "    def unknownParent(self):\n",
        "        return self.mother == 'unknown' or self.father =='unknown'\n",
        "    def maternalGrandmother(self):\n",
        "        if self.mother =='unknown' or self.mother == '':\n",
        "            return 'unknown'\n",
        "        else:\n",
        "            return self.mother.mother"
      ],
      "metadata": {
        "id": "ygL122wv4-56"
      },
      "execution_count": 87,
      "outputs": []
    },
    {
      "cell_type": "markdown",
      "source": [
        "Create enough `Person` objects to test whether your methods are working properly.  Show all your inputs and outputs.  It is up to you to demonstrate that you have thoroughly tested the code.  You may use additional code and/or text chunks if it helps."
      ],
      "metadata": {
        "id": "l9-4gxd8FxAQ"
      }
    },
    {
      "cell_type": "code",
      "source": [
        "ethan = Person('Branum', 'Alice', mother='Krisha Witowski', father = 'John Branum')"
      ],
      "metadata": {
        "id": "gX1qpcKzFwoZ"
      },
      "execution_count": 88,
      "outputs": []
    },
    {
      "cell_type": "code",
      "source": [
        "savannah = Person('Quanty', 'Savannah', mother='unknown', father='Brian Quanty')"
      ],
      "metadata": {
        "id": "WhkXnK8P6n9g"
      },
      "execution_count": 89,
      "outputs": []
    },
    {
      "cell_type": "code",
      "source": [
        "caroline_grandmother = Person('Wigboldy', 'Shelby')\n",
        "caroline_mother = Person('Wigboldy', 'Jane', mother=caroline_grandmother, father = 'unknown')\n",
        "caroline = Person('Wigboldy', 'Caroline', mother=caroline_mother, father='unknown')"
      ],
      "metadata": {
        "id": "TSlehJju68yA"
      },
      "execution_count": 90,
      "outputs": []
    },
    {
      "cell_type": "code",
      "source": [
        "print(ethan.unknownParent())"
      ],
      "metadata": {
        "colab": {
          "base_uri": "https://localhost:8080/"
        },
        "id": "jbljCz1T7cMX",
        "outputId": "dbb0d94b-494c-4450-e053-8e554c709b24"
      },
      "execution_count": 91,
      "outputs": [
        {
          "output_type": "stream",
          "name": "stdout",
          "text": [
            "False\n"
          ]
        }
      ]
    },
    {
      "cell_type": "code",
      "source": [
        "print(caroline.unknownParent())"
      ],
      "metadata": {
        "colab": {
          "base_uri": "https://localhost:8080/"
        },
        "id": "4rgXXohV9vLP",
        "outputId": "16b0863d-bb80-4536-8905-4a7ce37f00d0"
      },
      "execution_count": 92,
      "outputs": [
        {
          "output_type": "stream",
          "name": "stdout",
          "text": [
            "True\n"
          ]
        }
      ]
    },
    {
      "cell_type": "code",
      "source": [
        "print(savannah.unknownParent())"
      ],
      "metadata": {
        "colab": {
          "base_uri": "https://localhost:8080/"
        },
        "id": "_gbuEzc5_jKo",
        "outputId": "cc0b2d15-e4da-4c17-9657-da194e577514"
      },
      "execution_count": 93,
      "outputs": [
        {
          "output_type": "stream",
          "name": "stdout",
          "text": [
            "True\n"
          ]
        }
      ]
    },
    {
      "cell_type": "code",
      "source": [
        "print(savannah.maternalGrandmother())"
      ],
      "metadata": {
        "colab": {
          "base_uri": "https://localhost:8080/"
        },
        "id": "DvFWWmxM8L2F",
        "outputId": "6ee1fd1d-099f-4813-d2ae-3c330089c2bf"
      },
      "execution_count": 94,
      "outputs": [
        {
          "output_type": "stream",
          "name": "stdout",
          "text": [
            "unknown\n"
          ]
        }
      ]
    },
    {
      "cell_type": "code",
      "source": [
        "print(caroline.maternalGrandmother())"
      ],
      "metadata": {
        "colab": {
          "base_uri": "https://localhost:8080/"
        },
        "id": "opnqxSYh7hwi",
        "outputId": "9b72f42d-6cdd-4b9a-9dbe-03e22865956e"
      },
      "execution_count": 95,
      "outputs": [
        {
          "output_type": "stream",
          "name": "stdout",
          "text": [
            "Shelby Wigboldy\n"
          ]
        }
      ]
    }
  ]
}