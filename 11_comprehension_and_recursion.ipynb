{
  "nbformat": 4,
  "nbformat_minor": 0,
  "metadata": {
    "colab": {
      "provenance": [],
      "include_colab_link": true
    },
    "kernelspec": {
      "name": "python3",
      "display_name": "Python 3"
    },
    "language_info": {
      "name": "python"
    }
  },
  "cells": [
    {
      "cell_type": "markdown",
      "metadata": {
        "id": "view-in-github",
        "colab_type": "text"
      },
      "source": [
        "<a href=\"https://colab.research.google.com/github/alaplace17/DS1002_Alexander_Laplace/blob/main/11_comprehension_and_recursion.ipynb\" target=\"_parent\"><img src=\"https://colab.research.google.com/assets/colab-badge.svg\" alt=\"Open In Colab\"/></a>"
      ]
    },
    {
      "cell_type": "markdown",
      "source": [
        "## Assignment 11\n",
        "Due Monday 15 April at noon"
      ],
      "metadata": {
        "id": "y6mGkyWrqph3"
      }
    },
    {
      "cell_type": "markdown",
      "source": [
        "### List comprehension\n",
        "\n",
        "Many of you resisted my recommendation to use list comprehensions in the previous assignment, and so my hand is forced.  You made me require it.\n",
        "\n",
        "\n",
        "Problem 1.  For each function you write below, you may assume the list being sent to the function will contain the appropriate data type.\n",
        "\n",
        "Use list comprehensions to create a function that will take a list `l` and return . . ."
      ],
      "metadata": {
        "id": "eBJulsWBngse"
      }
    },
    {
      "cell_type": "code",
      "source": [
        "l = [1,-2,3,-4,5,]"
      ],
      "metadata": {
        "id": "eNhyjLZxj3RG"
      },
      "execution_count": 45,
      "outputs": []
    },
    {
      "cell_type": "code",
      "source": [
        "type(l)"
      ],
      "metadata": {
        "colab": {
          "base_uri": "https://localhost:8080/"
        },
        "id": "mZFhBpGRj6PR",
        "outputId": "b41594b9-aa29-4d66-f5fe-57411193aa88"
      },
      "execution_count": 46,
      "outputs": [
        {
          "output_type": "execute_result",
          "data": {
            "text/plain": [
              "list"
            ]
          },
          "metadata": {},
          "execution_count": 46
        }
      ]
    },
    {
      "cell_type": "markdown",
      "source": [
        "(a) . . . a list containing the absolute value of each element of `l`"
      ],
      "metadata": {
        "id": "1h4hKDEqo5T_"
      }
    },
    {
      "cell_type": "code",
      "source": [
        "def absolute_val(input_list):\n",
        "    \"\"\"\n",
        "    Compute absolute value of each element in input list\n",
        "\n",
        "    Args:\n",
        "    - input_list(list): Input list\n",
        "    Returns:\n",
        "    - list: New list containing the absolute values of elements\n",
        "    \"\"\"\n",
        "    absolute_list = [abs(x) for x in input_list]\n",
        "    return absolute_list\n"
      ],
      "metadata": {
        "id": "LNltsHhtngLS"
      },
      "execution_count": 47,
      "outputs": []
    },
    {
      "cell_type": "code",
      "source": [
        "absolute_val(l)"
      ],
      "metadata": {
        "colab": {
          "base_uri": "https://localhost:8080/"
        },
        "id": "7qidJcyWlE0W",
        "outputId": "72e06675-9b41-4cc9-b119-87045ce08b7f"
      },
      "execution_count": 48,
      "outputs": [
        {
          "output_type": "execute_result",
          "data": {
            "text/plain": [
              "[1, 2, 3, 4, 5]"
            ]
          },
          "metadata": {},
          "execution_count": 48
        }
      ]
    },
    {
      "cell_type": "markdown",
      "source": [
        "(b) . . . a list containing `True` for each even number in `l` and `False` for each odd number in `l`"
      ],
      "metadata": {
        "id": "mqIbzaTvpLCV"
      }
    },
    {
      "cell_type": "code",
      "source": [
        "def odd_even_numbers(input_list):\n",
        "    \"\"\"\n",
        "    Compute odd or even for each element in input list\n",
        "\n",
        "    Args:\n",
        "    - input_list(list): List of integers\n",
        "    Returns:\n",
        "    - list: New list containing:\n",
        "    'True' for each even number\n",
        "    'False' for each odd number\n",
        "    in input_list\n",
        "\n",
        "    \"\"\"\n",
        "    odd_even_list = [num % 2 == 0 for num in input_list]\n",
        "    return odd_even_list"
      ],
      "metadata": {
        "id": "0OTpQFX9pK0t"
      },
      "execution_count": 49,
      "outputs": []
    },
    {
      "cell_type": "code",
      "source": [
        "odd_even_numbers(l)"
      ],
      "metadata": {
        "colab": {
          "base_uri": "https://localhost:8080/"
        },
        "id": "ZCU3gyJbm9aW",
        "outputId": "dd43e7af-92ab-467c-def5-f2a31e32e94f"
      },
      "execution_count": 50,
      "outputs": [
        {
          "output_type": "execute_result",
          "data": {
            "text/plain": [
              "[False, True, False, True, False]"
            ]
          },
          "metadata": {},
          "execution_count": 50
        }
      ]
    },
    {
      "cell_type": "markdown",
      "source": [
        "(c) . . . a list containing only the numbers in `l` that are divisible by 3"
      ],
      "metadata": {
        "id": "9yqVg2hApUY9"
      }
    },
    {
      "cell_type": "code",
      "source": [
        "def div_by_three(input_list):\n",
        "    \"\"\"\n",
        "    Fitler numbers in input list divisible by 3\n",
        "\n",
        "    Args:\n",
        "    - l (list): The input list.\n",
        "\n",
        "    Returns:\n",
        "    - list: A new list with only numbers that are divisible by 3.\n",
        "    \"\"\"\n",
        "    nums_div_by_three = [num for num in l if num % 3 == 0 ]\n",
        "    return nums_div_by_three"
      ],
      "metadata": {
        "id": "2mP_1aYZpUF4"
      },
      "execution_count": 51,
      "outputs": []
    },
    {
      "cell_type": "code",
      "source": [
        "div_by_three(l)"
      ],
      "metadata": {
        "colab": {
          "base_uri": "https://localhost:8080/"
        },
        "id": "yRbJYPOFoZsq",
        "outputId": "bb957b53-05cd-42aa-cfec-fbf8fc35f759"
      },
      "execution_count": 52,
      "outputs": [
        {
          "output_type": "execute_result",
          "data": {
            "text/plain": [
              "[3]"
            ]
          },
          "metadata": {},
          "execution_count": 52
        }
      ]
    },
    {
      "cell_type": "markdown",
      "source": [
        "(d) . . . a list containing only the words in `l` whose first and last letters are the same"
      ],
      "metadata": {
        "id": "2yClgYZupef1"
      }
    },
    {
      "cell_type": "code",
      "source": [
        "word_list = [\"one\", \"two\", \"three\", \"four\", \"five\", \"six\", \"seven\", \"twelve\", \"onehundredtwo\"]"
      ],
      "metadata": {
        "id": "UOl_yZdfol_v"
      },
      "execution_count": 53,
      "outputs": []
    },
    {
      "cell_type": "code",
      "source": [
        "type(word_list)"
      ],
      "metadata": {
        "colab": {
          "base_uri": "https://localhost:8080/"
        },
        "id": "E-Lr6wr-qmFE",
        "outputId": "2e499fcf-ce4a-4213-9290-4157b8f9f9ad"
      },
      "execution_count": 54,
      "outputs": [
        {
          "output_type": "execute_result",
          "data": {
            "text/plain": [
              "list"
            ]
          },
          "metadata": {},
          "execution_count": 54
        }
      ]
    },
    {
      "cell_type": "code",
      "source": [
        "def first_last_letters(input_list):\n",
        "    \"\"\"\n",
        "    Filters words in list by those with the same first and last letters\n",
        "\n",
        "    Args:\n",
        "    - l (list): The input list.\n",
        "\n",
        "    Returns:\n",
        "    - list: A new list with only words that have the same first and last letters.\n",
        "    \"\"\"\n",
        "    first_last = [word for word in input_list if word[0] == word[-1]]\n",
        "    return first_last"
      ],
      "metadata": {
        "id": "-l7XnemMpeCi"
      },
      "execution_count": 55,
      "outputs": []
    },
    {
      "cell_type": "code",
      "source": [
        "first_last_letters(word_list)"
      ],
      "metadata": {
        "colab": {
          "base_uri": "https://localhost:8080/"
        },
        "id": "nMMG7MiurDUn",
        "outputId": "c3fe76aa-6c65-4060-b4e2-e04fffcce059"
      },
      "execution_count": 56,
      "outputs": [
        {
          "output_type": "execute_result",
          "data": {
            "text/plain": [
              "['onehundredtwo']"
            ]
          },
          "metadata": {},
          "execution_count": 56
        }
      ]
    },
    {
      "cell_type": "markdown",
      "source": [
        "(e) . . . a list containing the first letter of each word in `l` that ends with a vowel"
      ],
      "metadata": {
        "id": "1mqMysFKppZS"
      }
    },
    {
      "cell_type": "code",
      "source": [
        "def vowel_ending_initial(input_list):\n",
        "    \"\"\"\n",
        "    Filters words in list by those that end with a vowel and returns first initial\n",
        "\n",
        "    Args:\n",
        "    - l (list): The input list.\n",
        "\n",
        "    Returns:\n",
        "    - list: first initials of words that end with vowels in input_list\n",
        "    \"\"\"\n",
        "    vowels = ['a','e','i','o','u']\n",
        "    vowel_ending = [word[0] for word in input_list if word[-1].lower() in vowels]\n",
        "    return vowel_ending"
      ],
      "metadata": {
        "id": "1Gi3andbppDc"
      },
      "execution_count": 57,
      "outputs": []
    },
    {
      "cell_type": "code",
      "source": [
        "vowel_ending_initial(word_list)"
      ],
      "metadata": {
        "colab": {
          "base_uri": "https://localhost:8080/"
        },
        "id": "YjdtfHcmtaiD",
        "outputId": "accbc590-b8c3-490f-b65e-8e874b225053"
      },
      "execution_count": 58,
      "outputs": [
        {
          "output_type": "execute_result",
          "data": {
            "text/plain": [
              "['o', 't', 't', 'f', 't', 'o']"
            ]
          },
          "metadata": {},
          "execution_count": 58
        }
      ]
    },
    {
      "cell_type": "markdown",
      "source": [
        "### Multiplication as a recursive process\n",
        "Problem 2.  Write a recursive function that computes the product of two positive integers `a` and `b` by adding `a` to itself `b` times.\n",
        "\n",
        "Hints:  \n",
        "1. if `b=1` then the product is `a`.\n",
        "2. if `b>1` then the product is what you get by adding `a` to `a * (b-1)`.\n",
        "\n",
        "Note:  the purpose of this exercise is to practice writing recursive functions.  Of course you can trivially ask for `a*b` and get the correct answer but that is worth no points.  Your function should not use any multiplications.\n"
      ],
      "metadata": {
        "id": "iV4ysawxjsiE"
      }
    },
    {
      "cell_type": "code",
      "execution_count": 59,
      "metadata": {
        "id": "wc9Y1d7ejrvH"
      },
      "outputs": [],
      "source": [
        "def recursive_mult(a,b):\n",
        "    \"\"\"\n",
        "    Computes product of two positivei ntegers a and b recursively\n",
        "\n",
        "    Args:\n",
        "    - a (int): first positive integer\n",
        "    - b (int): second positive integer\n",
        "    Returns:\n",
        "    - int: Product of a and b\n",
        "    \"\"\"\n",
        "    if b == 1:\n",
        "        return a\n",
        "\n",
        "    return a + recursive_mult(a, b-1)"
      ]
    },
    {
      "cell_type": "code",
      "source": [
        "recursive_mult(2,5)"
      ],
      "metadata": {
        "colab": {
          "base_uri": "https://localhost:8080/"
        },
        "id": "93hmomRmwU3P",
        "outputId": "7315201c-30c9-4f9d-dc18-f1a1c73efb15"
      },
      "execution_count": 60,
      "outputs": [
        {
          "output_type": "execute_result",
          "data": {
            "text/plain": [
              "10"
            ]
          },
          "metadata": {},
          "execution_count": 60
        }
      ]
    },
    {
      "cell_type": "markdown",
      "source": [
        "### Division as a recursive process\n",
        "\n",
        "Problem 3:  Write a recursive function that takes two positive integers `a` and `b` and returns the quotient `q` and remainder `r` obtained when `a` is divided by `b`.\n",
        "\n",
        "Hints:  \n",
        "1. If `a<b` then what should `q` and `r` be?\n",
        "\n",
        "2. If `a>b` then think about how `q` and `r` are related to the values you would get from dividing `a-b` by `b`."
      ],
      "metadata": {
        "id": "A5xI1LxDkxn0"
      }
    },
    {
      "cell_type": "code",
      "source": [
        "def recursive_div(a,b):\n",
        "    \"\"\"\n",
        "    Computes quotient and remainder obtained when a is divided by b recursively\n",
        "\n",
        "    Args:\n",
        "    - a (int): Dividend (positive int)\n",
        "    - b (int): Divisor (positive int)\n",
        "    Returns:\n",
        "    - tuple: tuple with quotient and remainder (q,r)\n",
        "    \"\"\"\n",
        "    if a < b:\n",
        "        return (0,a)\n",
        "\n",
        "    q, r = recursive_div(a-b, b)\n",
        "\n",
        "    return(q+1, r)"
      ],
      "metadata": {
        "id": "_3aRmkgJkxUW"
      },
      "execution_count": 61,
      "outputs": []
    },
    {
      "cell_type": "code",
      "source": [
        "recursive_div(16,5)"
      ],
      "metadata": {
        "colab": {
          "base_uri": "https://localhost:8080/"
        },
        "id": "AzAupa6Px8SF",
        "outputId": "62338732-7ae5-4a91-b072-e9897422aadd"
      },
      "execution_count": 62,
      "outputs": [
        {
          "output_type": "execute_result",
          "data": {
            "text/plain": [
              "(3, 1)"
            ]
          },
          "metadata": {},
          "execution_count": 62
        }
      ]
    },
    {
      "cell_type": "markdown",
      "source": [
        "### The dot product of two vectors\n",
        "\n",
        "Problem 4.  Write a recursive function `dot()` that takes two lists of numbers, of equal length, and returns the sum of the products of the elements of the same index from each list. For example, if `V=[1,2,3]` and `W=[4,5,6]` then the function should return the value $(1 \\cdot 4) + (2\\cdot 5) + (3\\cdot 6)$, which equals 32.  In physics and linear algebra, this is called the \"dot product\" of the vectors `V` and `W`.\n",
        "\n",
        "Other examples:\n",
        "```\n",
        "dot([3],[4])\n",
        "12\n",
        "\n",
        "dot([1,1,0],[2,7,17])\n",
        "9\n",
        "```\n",
        "Hints:\n",
        "1. How is `dot(V,W)` related to `dot(V[1:],W[1:])`?\n",
        "2. What should happen if the lists are empty?"
      ],
      "metadata": {
        "id": "OkBK7gvglJ3u"
      }
    },
    {
      "cell_type": "code",
      "source": [
        "def dot(V,W):\n",
        "    \"\"\"\n",
        "    Compute dot product of 2 number lists recursively\n",
        "\n",
        "    Args:\n",
        "    - V (list): the first list of numbers\n",
        "    - W (list): the second list of numbers\n",
        "\n",
        "    Returns:\n",
        "    - float: dot product of V and W\n",
        "    \"\"\"\n",
        "\n",
        "    if not V or not W:\n",
        "        return 0\n",
        "\n",
        "    return V[0] * W[0] + dot(V[1:], W[1:])"
      ],
      "metadata": {
        "id": "LZXs6lkslJqm"
      },
      "execution_count": 63,
      "outputs": []
    },
    {
      "cell_type": "code",
      "source": [
        "dot([5,3,2], [4,2,6])"
      ],
      "metadata": {
        "colab": {
          "base_uri": "https://localhost:8080/"
        },
        "id": "rjbjjFj30G1Q",
        "outputId": "70f5c1bc-42ca-4326-b808-83d199a422c7"
      },
      "execution_count": 64,
      "outputs": [
        {
          "output_type": "execute_result",
          "data": {
            "text/plain": [
              "38"
            ]
          },
          "metadata": {},
          "execution_count": 64
        }
      ]
    },
    {
      "cell_type": "code",
      "source": [
        "dot([1,2,3], [4,5,6])"
      ],
      "metadata": {
        "colab": {
          "base_uri": "https://localhost:8080/"
        },
        "id": "E2sIC-7O0Msc",
        "outputId": "4bad7cfd-9dd0-4d09-9809-9ff635243a12"
      },
      "execution_count": 65,
      "outputs": [
        {
          "output_type": "execute_result",
          "data": {
            "text/plain": [
              "32"
            ]
          },
          "metadata": {},
          "execution_count": 65
        }
      ]
    }
  ]
}